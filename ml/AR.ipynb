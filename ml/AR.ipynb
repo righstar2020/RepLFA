{
 "cells": [
  {
   "cell_type": "code",
   "execution_count": null,
   "metadata": {},
   "outputs": [],
   "source": [
    "import numpy as np\n",
    "import pandas as pd\n",
    "from statsmodels.tsa.ar_model import AutoReg\n",
    "from scipy.stats import zscore\n",
    "\n",
    "# 假设 `data` 是一个包含时间序列数据的Pandas DataFrame\n",
    "data = pd.read_csv('..\\output\\RepLFA_2024_09_27_16_32_02.csv')['untrust_ip_dst_entropy']\n",
    "train = data[:100]\n",
    "test = data[100:110]\n",
    "forecast_horizon =10\n",
    "# 使用AutoReg自动选择最佳阶数并拟合模型\n",
    "model = AutoReg(train, lags='aic')\n",
    "results = model.fit()\n",
    "\n",
    "# 预测数据\n",
    "predictions = results.predict(start=len(train), end=len(train)+forecast_horizon, dynamic=False)\n",
    "\n",
    "# 计算残差\n",
    "residuals = test.values - predictions\n",
    "\n",
    "# 使用Z-score检测异常值\n",
    "z_scores = zscore(residuals)\n",
    "threshold = 3  # 设定Z-score阈值为3\n",
    "anomalies = np.where(np.abs(z_scores) > threshold)\n",
    "\n",
    "# 打印异常值的位置\n",
    "print(\"Anomalies detected at indices:\", anomalies)"
   ]
  },
  {
   "cell_type": "code",
   "execution_count": null,
   "metadata": {},
   "outputs": [],
   "source": [
    "import numpy as np\n",
    "import matplotlib.pyplot as plt\n",
    "from sklearn.datasets import make_classification\n",
    "from sklearn.model_selection import train_test_split\n",
    "from sklearn.linear_model import LogisticRegression\n",
    "from sklearn.metrics import roc_curve, auc\n",
    "\n",
    "# 创建模拟数据\n",
    "X, y = make_classification(n_samples=1000, n_features=20, n_informative=2, n_redundant=10,\n",
    "                           n_classes=2, random_state=42)\n",
    "\n",
    "# 划分训练集和测试集\n",
    "X_train, X_test, y_train, y_test = train_test_split(X, y, test_size=0.3, random_state=42)\n",
    "\n",
    "# 训练逻辑回归模型\n",
    "clf = LogisticRegression(random_state=42)\n",
    "clf.fit(X_train, y_train)\n",
    "\n",
    "# 预测概率\n",
    "y_scores = clf.predict_proba(X_test)[:, 1]  # 获取正类的概率\n",
    "\n",
    "# 计算ROC曲线\n",
    "fpr, tpr, _ = roc_curve(y_test, y_scores)\n",
    "roc_auc = auc(fpr, tpr)\n",
    "\n",
    "# 绘制ROC曲线\n",
    "plt.figure()\n",
    "plt.plot(fpr, tpr, label=f'ROC curve (area = {roc_auc:.2f})')\n",
    "plt.plot([0, 1], [0, 1], 'k--')  # 对角线\n",
    "plt.xlim([0.0, 1.0])\n",
    "plt.ylim([0.0, 1.05])\n",
    "plt.xlabel('False Positive Rate')\n",
    "plt.ylabel('True Positive Rate')\n",
    "plt.title('Receiver Operating Characteristic (ROC)')\n",
    "plt.legend(loc=\"lower right\")\n",
    "plt.show()"
   ]
  }
 ],
 "metadata": {
  "kernelspec": {
   "display_name": "Python 3",
   "language": "python",
   "name": "python3"
  },
  "language_info": {
   "codemirror_mode": {
    "name": "ipython",
    "version": 3
   },
   "file_extension": ".py",
   "mimetype": "text/x-python",
   "name": "python",
   "nbconvert_exporter": "python",
   "pygments_lexer": "ipython3",
   "version": "3.7.4"
  }
 },
 "nbformat": 4,
 "nbformat_minor": 2
}
